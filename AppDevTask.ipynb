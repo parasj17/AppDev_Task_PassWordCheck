{
 "cells": [
  {
   "cell_type": "code",
   "execution_count": null,
   "id": "94ba9594-9876-4af1-a480-502e1c537e64",
   "metadata": {},
   "outputs": [],
   "source": [
    "import re\n",
    "\n",
    "def password_strength(password):\n",
    "    score = 0\n",
    "\n",
    "    # Criteria for the password set\n",
    "    if len(password) >= 8:\n",
    "        score += 1\n",
    "    if re.search(r\"[A-Z]\", password):\n",
    "        score += 1\n",
    "    if re.search(r\"[a-z]\", password):\n",
    "        score += 1\n",
    "    if re.search(r\"\\d\", password):\n",
    "        score += 1\n",
    "    if re.search(r\"[!@#$%^&*(),.?\\\":{}|<>]\", password):\n",
    "        score += 1\n",
    "\n",
    "    # Emoji feedback based on score\n",
    "    if score <= 1:\n",
    "        return \"👎 Very Weak\"\n",
    "    elif score == 2:\n",
    "        return \"🤏 Weak\"\n",
    "    elif score == 3:\n",
    "        return \"👍 Moderate\"\n",
    "    elif score == 4:\n",
    "        return \"💪 Strong\"\n",
    "    else:\n",
    "        return \"🫡 Very Strong\"\n",
    "\n",
    "# Example usage\n",
    "while True:\n",
    "    pwd = input(\"Enter a password (or type 'exit' to quit): \")\n",
    "    if pwd.lower() == 'exit':\n",
    "        break\n",
    "    print(\"Strength:\", password_strength(pwd))\n"
   ]
  },
  {
   "cell_type": "code",
   "execution_count": null,
   "id": "3bf45b3b-30d0-4a1c-aac5-81ee6746b52e",
   "metadata": {},
   "outputs": [],
   "source": []
  }
 ],
 "metadata": {
  "kernelspec": {
   "display_name": "Python [conda env:base] *",
   "language": "python",
   "name": "conda-base-py"
  },
  "language_info": {
   "codemirror_mode": {
    "name": "ipython",
    "version": 3
   },
   "file_extension": ".py",
   "mimetype": "text/x-python",
   "name": "python",
   "nbconvert_exporter": "python",
   "pygments_lexer": "ipython3",
   "version": "3.12.7"
  }
 },
 "nbformat": 4,
 "nbformat_minor": 5
}
